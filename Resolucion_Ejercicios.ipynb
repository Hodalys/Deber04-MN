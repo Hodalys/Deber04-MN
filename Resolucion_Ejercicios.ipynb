{
 "cells": [
  {
   "cell_type": "markdown",
   "metadata": {},
   "source": [
    "# Ejercicios de Bisección\n",
    "## Deber4 - Métodos numéricos\n",
    "Nombre: Hodalys López"
   ]
  },
  {
   "cell_type": "markdown",
   "metadata": {},
   "source": [
    "Ejercicios Aplicados 1"
   ]
  },
  {
   "cell_type": "code",
   "execution_count": null,
   "metadata": {},
   "outputs": [],
   "source": [
    "import math\n",
    "def f(h):\n",
    "return math.asin(h) + h * math.sqrt(1 - h**2) - (0.5 * math.pi - 1.24)  \n",
    "\n",
    "def metodoBiseccion (a, b, tolerancia):\n",
    "if f(a) * f(b) >= 0:  \n",
    "        print(\"El método de bisección no puede aplicarse.\")  \n",
    "        return None  \n",
    "    \n",
    "    print(f\"f(a) = {f(a)}, f(b) = {f(b)}\") \n",
    "    while (b - a) / 2.0 > tolerancia:  \n",
    "        # Calcular punto medio\n",
    "        midpoint = (a + b) / 2.0  \n",
    "        if f(midpoint) == 0:  \n",
    "            return midpoint \n",
    "        elif f(a) * f(midpoint) < 0:  \n",
    "            b = midpoint\n",
    "        else:  \n",
    "            a = midpoint \n",
    "    return (a + b) / 2.0 \n",
    "  \n",
    "a = 0  \n",
    "b = 1  \n",
    "tolerancia = 0.01  \n",
    "h_approximada = metodoBiseccion (a, b, tolerancia)  \n",
    "if h_approximada is not None:  \n",
    "    print(f\"La profundidad aproximada del agua es: {h_approximada:.4f} cm\")  \n"
   ]
  },
  {
   "cell_type": "markdown",
   "metadata": {},
   "source": [
    "Ejercicios Aplicados 2"
   ]
  },
  {
   "cell_type": "code",
   "execution_count": null,
   "metadata": {},
   "outputs": [],
   "source": [
    "import math\n",
    "def s(t):\n",
    "    g = 9.81\n",
    "    s0 = 300\n",
    "    m = 0.25\n",
    "    k = 0.1\n",
    "    return s0 - ((m*g)/k)*t + ((m**2*g) / k**2) * (1 - math.e**(-k * t/m))\n",
    "\n",
    "def metodoBiseccion(a, b, tolerancia):\n",
    "    if s(a) * s(b) >= 0:\n",
    "        print(\"El método de bisección no puede aplicarse.\")\n",
    "        return None\n",
    "    while (b-a)/2.0 > tolerancia:\n",
    "        midpoint = (a+b)/2.0\n",
    "        if s(midpoint) == 0:\n",
    "            return midpoint\n",
    "        elif s(a) * s(midpoint) < 0:\n",
    "            b = midpoint\n",
    "        else:\n",
    "            a = midpoint\n",
    "    return (a+b)/2.0\n",
    "\n",
    "a = 0\n",
    "b = 30\n",
    "tolerance = 0.01\n",
    "t_final = metodoBiseccion(a, b, tolerance)\n",
    "print(f\"El tiempo aproximado para golpear el piso es: {t_final:.4f} segundos\")\n"
   ]
  }
 ],
 "metadata": {
  "language_info": {
   "name": "python"
  }
 },
 "nbformat": 4,
 "nbformat_minor": 2
}
